{
 "cells": [
  {
   "cell_type": "code",
   "execution_count": 1,
   "metadata": {
    "editable": true
   },
   "outputs": [],
   "source": [
    "import boto3\n",
    "import configparser"
   ]
  },
  {
   "cell_type": "code",
   "execution_count": 2,
   "metadata": {
    "editable": true
   },
   "outputs": [
    {
     "data": {
      "text/plain": [
       "['./dl.cfg']"
      ]
     },
     "execution_count": 2,
     "metadata": {},
     "output_type": "execute_result"
    }
   ],
   "source": [
    "config = configparser.ConfigParser()\n",
    "config.read(r'./dl.cfg')"
   ]
  },
  {
   "cell_type": "code",
   "execution_count": 3,
   "metadata": {
    "editable": true
   },
   "outputs": [],
   "source": [
    "s3 = boto3.client('s3',\n",
    "                  region_name = 'us-east-1',\n",
    "                 aws_access_key_id = config.get('AWS','AWS_ACCESS_KEY_ID'),\n",
    "                 aws_secret_access_key = config.get('AWS','AWS_SECRET_ACCESS_KEY'))"
   ]
  },
  {
   "cell_type": "code",
   "execution_count": 25,
   "metadata": {
    "editable": true
   },
   "outputs": [],
   "source": [
    "response = s3.list_buckets()"
   ]
  },
  {
   "cell_type": "code",
   "execution_count": 26,
   "metadata": {
    "editable": true
   },
   "outputs": [
    {
     "data": {
      "text/plain": [
       "[{'Name': 'aws-logs-780041522191-us-east-1',\n",
       "  'CreationDate': datetime.datetime(2018, 2, 22, 15, 1, 55, tzinfo=tzlocal())},\n",
       " {'Name': 'aws-logs-780041522191-us-east-2',\n",
       "  'CreationDate': datetime.datetime(2018, 2, 21, 19, 54, 5, tzinfo=tzlocal())},\n",
       " {'Name': 'ferrarisf50',\n",
       "  'CreationDate': datetime.datetime(2020, 2, 27, 15, 6, 15, tzinfo=tzlocal())}]"
      ]
     },
     "execution_count": 26,
     "metadata": {},
     "output_type": "execute_result"
    }
   ],
   "source": [
    "response['Buckets']"
   ]
  },
  {
   "cell_type": "code",
   "execution_count": 15,
   "metadata": {
    "editable": true
   },
   "outputs": [],
   "source": [
    "response = s3.create_bucket(Bucket='test-bucketno')"
   ]
  },
  {
   "cell_type": "code",
   "execution_count": 16,
   "metadata": {
    "editable": true
   },
   "outputs": [
    {
     "data": {
      "text/plain": [
       "[{'Name': 'aws-logs-780041522191-us-east-1',\n",
       "  'CreationDate': datetime.datetime(2018, 2, 22, 15, 1, 55, tzinfo=tzlocal())},\n",
       " {'Name': 'aws-logs-780041522191-us-east-2',\n",
       "  'CreationDate': datetime.datetime(2018, 2, 21, 19, 54, 5, tzinfo=tzlocal())},\n",
       " {'Name': 'ferrarisf50',\n",
       "  'CreationDate': datetime.datetime(2020, 2, 27, 15, 6, 15, tzinfo=tzlocal())},\n",
       " {'Name': 'test-bucketno',\n",
       "  'CreationDate': datetime.datetime(2020, 3, 8, 12, 58, 27, tzinfo=tzlocal())}]"
      ]
     },
     "execution_count": 16,
     "metadata": {},
     "output_type": "execute_result"
    }
   ],
   "source": [
    "response = s3.list_buckets()\n",
    "response['Buckets']"
   ]
  },
  {
   "cell_type": "code",
   "execution_count": 18,
   "metadata": {
    "editable": true
   },
   "outputs": [],
   "source": [
    "response = s3.delete_bucket(Bucket='test-bucketno')"
   ]
  },
  {
   "cell_type": "code",
   "execution_count": 4,
   "metadata": {
    "editable": true
   },
   "outputs": [],
   "source": [
    "s3.upload_file(Filename='etl.py',\n",
    "              Bucket='ferrarisf50',\n",
    "              Key='Sparkify/etl.py')\n"
   ]
  },
  {
   "cell_type": "code",
   "execution_count": 30,
   "metadata": {
    "editable": true
   },
   "outputs": [],
   "source": [
    "s3.upload_file(Filename='dl.cfg',\n",
    "              Bucket='ferrarisf50',\n",
    "              Key='dl.cfg')"
   ]
  },
  {
   "cell_type": "code",
   "execution_count": 24,
   "metadata": {
    "editable": true
   },
   "outputs": [
    {
     "name": "stdout",
     "output_type": "stream",
     "text": [
      "{'ResponseMetadata': {'RequestId': '4ECE75A7C4838758', 'HostId': 'dmiHtTXOi2q3BSEBL7tYHzhX0Vp0RWU4VLkIO4QRvOVYiKwd4mlV+I9dP1giSRQiaaXcMlx/+qE=', 'HTTPStatusCode': 200, 'HTTPHeaders': {'x-amz-id-2': 'dmiHtTXOi2q3BSEBL7tYHzhX0Vp0RWU4VLkIO4QRvOVYiKwd4mlV+I9dP1giSRQiaaXcMlx/+qE=', 'x-amz-request-id': '4ECE75A7C4838758', 'date': 'Sun, 08 Mar 2020 13:24:37 GMT', 'x-amz-bucket-region': 'us-east-1', 'content-type': 'application/xml', 'transfer-encoding': 'chunked', 'server': 'AmazonS3'}, 'RetryAttempts': 0}, 'IsTruncated': True, 'Marker': '', 'Contents': [{'Key': 'artists.parquet/_SUCCESS', 'LastModified': datetime.datetime(2020, 3, 7, 15, 43, 50, tzinfo=tzlocal()), 'ETag': '\"d41d8cd98f00b204e9800998ecf8427e\"', 'Size': 0, 'StorageClass': 'STANDARD', 'Owner': {'DisplayName': 'ferrarisf50', 'ID': '4590deec6d0ece3b755da885a7f90aa32cf7f14489a3e29a23d07fb970b8cace'}}, {'Key': 'artists.parquet/part-00000-829a647f-1d5f-454c-bbe4-c9024dbf359d-c000.snappy.parquet', 'LastModified': datetime.datetime(2020, 3, 7, 15, 43, 48, tzinfo=tzlocal()), 'ETag': '\"65fade71253527ab80b49d69c8eb53b6\"', 'Size': 2706, 'StorageClass': 'STANDARD', 'Owner': {'DisplayName': 'ferrarisf50', 'ID': '4590deec6d0ece3b755da885a7f90aa32cf7f14489a3e29a23d07fb970b8cace'}}], 'Name': 'ferrarisf50', 'Prefix': '', 'MaxKeys': 2, 'EncodingType': 'url'}\n"
     ]
    }
   ],
   "source": [
    "response = s3.list_objects(Bucket='ferrarisf50',\n",
    "                          MaxKeys=2,\n",
    "                          #Prefix='etl'\n",
    "                          )\n",
    "print(response)"
   ]
  },
  {
   "cell_type": "code",
   "execution_count": 26,
   "metadata": {
    "editable": true
   },
   "outputs": [
    {
     "name": "stdout",
     "output_type": "stream",
     "text": [
      "{'ResponseMetadata': {'RequestId': '0B3E56B32D9CE516', 'HostId': 'v8M1ki82ZddTNIFY+lxSzi5zgzRm0l4wxqPIPlfpPfp1Q11TSjSZKqaB5GlX+wbUfy8rVEDN+lM=', 'HTTPStatusCode': 200, 'HTTPHeaders': {'x-amz-id-2': 'v8M1ki82ZddTNIFY+lxSzi5zgzRm0l4wxqPIPlfpPfp1Q11TSjSZKqaB5GlX+wbUfy8rVEDN+lM=', 'x-amz-request-id': '0B3E56B32D9CE516', 'date': 'Sun, 08 Mar 2020 13:25:35 GMT', 'last-modified': 'Sun, 08 Mar 2020 13:22:45 GMT', 'etag': '\"821bb67d29e48dbf1752e8e9cb9eeed4\"', 'accept-ranges': 'bytes', 'content-type': 'binary/octet-stream', 'content-length': '7719', 'server': 'AmazonS3'}, 'RetryAttempts': 0}, 'AcceptRanges': 'bytes', 'LastModified': datetime.datetime(2020, 3, 8, 13, 22, 45, tzinfo=tzutc()), 'ContentLength': 7719, 'ETag': '\"821bb67d29e48dbf1752e8e9cb9eeed4\"', 'ContentType': 'binary/octet-stream', 'Metadata': {}}\n"
     ]
    }
   ],
   "source": [
    "response = s3.head_object(Bucket='ferrarisf50',\n",
    "                         Key='etl.py')\n",
    "print(response)"
   ]
  },
  {
   "cell_type": "code",
   "execution_count": 27,
   "metadata": {
    "editable": true
   },
   "outputs": [],
   "source": [
    "s3.download_file(Filename='test.py',\n",
    "                Bucket='ferrarisf50',\n",
    "                Key='etl.py')"
   ]
  },
  {
   "cell_type": "code",
   "execution_count": 28,
   "metadata": {
    "editable": true
   },
   "outputs": [
    {
     "data": {
      "text/plain": [
       "{'ResponseMetadata': {'RequestId': '82263B7CB9BCD8DE',\n",
       "  'HostId': 'N0fSe5GtGw45SOoreggjKe20yTJZiZU4KfWxGViYFi/dmYI6wsGCo9QhKEdLKTv5I5zUAsL8Y/Q=',\n",
       "  'HTTPStatusCode': 204,\n",
       "  'HTTPHeaders': {'x-amz-id-2': 'N0fSe5GtGw45SOoreggjKe20yTJZiZU4KfWxGViYFi/dmYI6wsGCo9QhKEdLKTv5I5zUAsL8Y/Q=',\n",
       "   'x-amz-request-id': '82263B7CB9BCD8DE',\n",
       "   'date': 'Sun, 08 Mar 2020 13:38:54 GMT',\n",
       "   'server': 'AmazonS3'},\n",
       "  'RetryAttempts': 0}}"
      ]
     },
     "execution_count": 28,
     "metadata": {},
     "output_type": "execute_result"
    }
   ],
   "source": [
    "s3.delete_object(Bucket='ferrarisf50',\n",
    "                Key='etl.py')"
   ]
  },
  {
   "cell_type": "code",
   "execution_count": 6,
   "metadata": {
    "editable": true
   },
   "outputs": [],
   "source": [
    "emr = boto3.client('emr',\n",
    "                  region_name = 'us-east-1',\n",
    "                 aws_access_key_id = config.get('AWS','AWS_ACCESS_KEY_ID'),\n",
    "                 aws_secret_access_key = config.get('AWS','AWS_SECRET_ACCESS_KEY'))"
   ]
  },
  {
   "cell_type": "code",
   "execution_count": 7,
   "metadata": {
    "editable": true
   },
   "outputs": [
    {
     "name": "stdout",
     "output_type": "stream",
     "text": [
      "cluster created with the step... j-APXE51B0ROEO\n"
     ]
    }
   ],
   "source": [
    "\n",
    "cluster_id = emr.run_job_flow(\n",
    "    Name='test_emr_job_boto3',\n",
    "    LogUri='s3://ferrarisf50/logs',\n",
    "    ReleaseLabel='emr-5.29.0',\n",
    "    Applications=[\n",
    "        {\n",
    "            'Name': 'Spark'\n",
    "        },\n",
    "    ],\n",
    "    Configurations=[\n",
    "            {\n",
    "                \"Classification\": \"spark-env\",\n",
    "                \"Configurations\": [\n",
    "                    {\n",
    "                        \"Classification\": \"export\",\n",
    "                        \"Properties\": {\n",
    "                            \"PYSPARK_PYTHON\": \"/usr/bin/python3\"\n",
    "                        }\n",
    "                    }\n",
    "                ]\n",
    "            }\n",
    "        ],\n",
    "    Instances={\n",
    "        'InstanceGroups': [\n",
    "            {\n",
    "                'Name': \"Master nodes\",\n",
    "                'Market': 'ON_DEMAND',\n",
    "                'InstanceRole': 'MASTER',\n",
    "                'InstanceType': 'm5.xlarge',\n",
    "                'InstanceCount': 1,\n",
    "            },\n",
    "            {\n",
    "                'Name': \"Slave nodes\",\n",
    "                'Market': 'ON_DEMAND',\n",
    "                'InstanceRole': 'CORE',\n",
    "                'InstanceType': 'm5.xlarge',\n",
    "                'InstanceCount': 4,\n",
    "            }\n",
    "        ],\n",
    "        #'Ec2KeyName': 'mykey',\n",
    "        'KeepJobFlowAliveWhenNoSteps': False,\n",
    "        'TerminationProtected': False,\n",
    "        #'Ec2SubnetId': 'subnet-04a2978b7fc0b4606',\n",
    "    },\n",
    "    Steps=[\n",
    "            {\n",
    "                'Name': 'Setup Debugging',   \n",
    "                        #'ActionOnFailure': 'CONTINUE',\n",
    "                        'ActionOnFailure': 'TERMINATE_CLUSTER',\n",
    "                        'HadoopJarStep': {\n",
    "                            'Jar': 'command-runner.jar',\n",
    "                            'Args': ['state-pusher-script']\n",
    "                        }\n",
    "            },\n",
    "            {\n",
    "                'Name': 'Setup - copy etl.py',\n",
    "                'ActionOnFailure': 'CANCEL_AND_WAIT',\n",
    "                'HadoopJarStep': {\n",
    "                    'Jar': 'command-runner.jar',\n",
    "                    #'Args': ['aws', 's3', 'cp', 's3://ferrarisf50/elt.py', '/home/hadoop/']\n",
    "                    'Args': ['aws', 's3', 'cp', 's3://ferrarisf50/Sparkify', '/home/hadoop/',\n",
    "                            '--recursive']\n",
    "                }\n",
    "            },\n",
    "#            {\n",
    "#                'Name': 'Setup - copy dl.cfg',\n",
    "#                'ActionOnFailure': 'CANCEL_AND_WAIT',\n",
    "#                'HadoopJarStep': {\n",
    "#                    'Jar': 'command-runner.jar',\n",
    "#                    'Args': ['aws', 's3', 'cp', 's3://ferrarisf50/dl.cfg', '/home/hadoop/',\n",
    "#                             '--recursive']\n",
    "#               }\n",
    "#            },\n",
    "            {\n",
    "                'Name': 'Run Spark',\n",
    "                'ActionOnFailure': 'CANCEL_AND_WAIT',\n",
    "                'HadoopJarStep': {\n",
    "                    'Jar': 'command-runner.jar',\n",
    "                    'Args': ['spark-submit', '/home/hadoop/etl.py'\n",
    "                             #,config['DATALAKE']['INPUT_DATA'], config['DATALAKE']['OUTPUT_DATA']\n",
    "                            ]\n",
    "                }\n",
    "            }\n",
    "    ],\n",
    "    VisibleToAllUsers=True,\n",
    "    JobFlowRole='EMR_EC2_DefaultRole',\n",
    "    ServiceRole='EMR_DefaultRole'\n",
    "    #ServiceRole='MyEmrRole'\n",
    "    \n",
    ")\n",
    "\n",
    "print ('cluster created with the step...', cluster_id['JobFlowId'])"
   ]
  },
  {
   "cell_type": "code",
   "execution_count": null,
   "metadata": {
    "editable": true
   },
   "outputs": [],
   "source": []
  }
 ],
 "metadata": {
  "kernelspec": {
   "display_name": "Python 3",
   "language": "python",
   "name": "python3"
  },
  "language_info": {
   "codemirror_mode": {
    "name": "ipython",
    "version": 3
   },
   "file_extension": ".py",
   "mimetype": "text/x-python",
   "name": "python",
   "nbconvert_exporter": "python",
   "pygments_lexer": "ipython3",
   "version": "3.6.3"
  }
 },
 "nbformat": 4,
 "nbformat_minor": 4
}
